{
 "cells": [
  {
   "cell_type": "code",
   "execution_count": 1,
   "metadata": {},
   "outputs": [],
   "source": [
    "import matplotlib.pyplot as plt\n",
    "import numpy as np\n",
    "import torch\n",
    "import os\n",
    "mps_device = torch.device(\"cuda:1\")\n",
    "from constants.filepath import PROJECT_PATH\n",
    "\n",
    "import plotly\n",
    "import plotly.graph_objs as go\n",
    "%matplotlib widget"
   ]
  },
  {
   "cell_type": "code",
   "execution_count": 2,
   "metadata": {},
   "outputs": [
    {
     "name": "stdout",
     "output_type": "stream",
     "text": [
      "input_features shape: torch.Size([2338665, 2])\n",
      "target_residuals shape: torch.Size([2338665, 1])\n"
     ]
    }
   ],
   "source": [
    "residuals = np.load(os.path.join(PROJECT_PATH, 'model_data', 'training_residuals.npz'))['residuals']\n",
    "command_data = np.load(os.path.join(PROJECT_PATH, 'model_data', 'training_command_data.npz'))['command_data']\n",
    "analytical_data = np.load(os.path.join(PROJECT_PATH, 'model_data', 'training_analytical_data.npz'))['analytical_data']\n",
    "\n",
    "test_residuals = np.load(os.path.join(PROJECT_PATH, 'model_data', 'test_residuals.npz'))['residuals']\n",
    "test_command = np.load(os.path.join(PROJECT_PATH, 'model_data', 'test_command_data.npz'))['command_data']\n",
    "test_analytical = np.load(os.path.join(PROJECT_PATH, 'model_data', 'test_analytical_data.npz'))['analytical_data']\n",
    "\n",
    "\n",
    "input_data = np.stack((command_data, analytical_data), axis=1)\n",
    "# input_features = torch.tensor(analytical_data, dtype=torch.float32, device=mps_device).view(-1, 1)\n",
    "input_features = torch.tensor(input_data, dtype=torch.float32, device='cpu')\n",
    "target_residuals = torch.tensor(residuals, dtype=torch.float32, device='cpu').view(-1, 1)\n",
    "\n",
    "test_input_data = np.stack((test_command, test_analytical), axis=1)\n",
    "test_input_features = torch.tensor(test_input_data, dtype=torch.float32, device='cpu')\n",
    "test_target_residuals = torch.tensor(test_residuals, dtype=torch.float32, device='cpu').view(-1, 1)\n",
    "\n",
    "print(\"input_features shape:\", input_features.shape)\n",
    "print(\"target_residuals shape:\", target_residuals.shape)"
   ]
  },
  {
   "cell_type": "code",
   "execution_count": 3,
   "metadata": {},
   "outputs": [],
   "source": [
    "class BigManBlastoiseDataset(torch.utils.data.Dataset):\n",
    "    def __init__(self, input_features, target_residuals):\n",
    "        self.data_length = input_features.shape[0]\n",
    "        self.input_features = input_features\n",
    "        self.target_residuals = target_residuals\n",
    "    def __getitem__(self, idx):\n",
    "        return self.input_features[idx], self.target_residuals[idx]\n",
    "    def __len__(self):\n",
    "        return self.data_length"
   ]
  },
  {
   "cell_type": "code",
   "execution_count": null,
   "metadata": {},
   "outputs": [
    {
     "name": "stdout",
     "output_type": "stream",
     "text": [
      "torch.Size([1000, 2])\n",
      "torch.Size([1000, 1])\n",
      "cpu\n"
     ]
    }
   ],
   "source": [
    "train_dataset= BigManBlastoiseDataset(input_features, target_residuals)\n",
    "val_dataset = BigManBlastoiseDataset(test_input_features, test_target_residuals)\n",
    "# random_split = torch.utils.data.random_split\n",
    "# train_ratio = 0.9\n",
    "# train_dataset, val_dataset = random_split(dataset, [int(len(dataset)*train_ratio), len(dataset) - int(len(dataset)*train_ratio)])\n",
    "# 524288\n",
    "# 1048576\n",
    "train_dataloader = torch.utils.data.DataLoader(train_dataset, batch_size=100, shuffle=True, num_workers=16)\n",
    "val_dataloader = torch.utils.data.DataLoader(val_dataset, batch_size=100, shuffle=True, num_workers=16)\n",
    "\n",
    "\n",
    "data_batch, data_label = next(iter(train_dataloader))\n",
    "val_data_batch, val_data_label = next(iter(val_dataloader))\n",
    "\n",
    "print(data_batch.shape)\n",
    "print(data_label.shape)\n",
    "print(data_batch.device)"
   ]
  },
  {
   "cell_type": "code",
   "execution_count": null,
   "metadata": {},
   "outputs": [],
   "source": [
    "# 3d plot in matplotlib\n",
    "fig = plt.figure()\n",
    "ax = fig.add_subplot(111, projection='3d')\n",
    "ax.scatter(val_data_batch[:, 0], val_data_batch[:, 1], val_data_label, c='r', marker='o')\n",
    "ax.scatter(data_batch[:, 0], data_batch[:, 1], data_label, c='b', marker='o')\n",
    "ax.set_xlabel('Command')\n",
    "ax.set_ylabel('Analytical')\n",
    "ax.set_zlabel('Residuals')\n",
    "plt.show()"
   ]
  },
  {
   "cell_type": "code",
   "execution_count": null,
   "metadata": {},
   "outputs": [],
   "source": []
  },
  {
   "cell_type": "code",
   "execution_count": null,
   "metadata": {},
   "outputs": [],
   "source": []
  }
 ],
 "metadata": {
  "kernelspec": {
   "display_name": "vbn",
   "language": "python",
   "name": "python3"
  },
  "language_info": {
   "codemirror_mode": {
    "name": "ipython",
    "version": 3
   },
   "file_extension": ".py",
   "mimetype": "text/x-python",
   "name": "python",
   "nbconvert_exporter": "python",
   "pygments_lexer": "ipython3",
   "version": "3.13.2"
  }
 },
 "nbformat": 4,
 "nbformat_minor": 2
}
