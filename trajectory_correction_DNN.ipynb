{
 "cells": [
  {
   "cell_type": "markdown",
   "metadata": {},
   "source": [
    "# Training Trajectory Corrector"
   ]
  },
  {
   "cell_type": "code",
   "execution_count": null,
   "metadata": {},
   "outputs": [],
   "source": [
    "import matplotlib.pyplot as plt\n",
    "import numpy as np\n",
    "import torch\n",
    "from glob import glob\n",
    "# from flow_predictor import flow_predictor\n",
    "from tqdm import tqdm\n",
    "# from pathgen import training_twosteps\n",
    "\n",
    "mps_device = torch.device(\"cuda:1\")\n",
    "\n",
    "plt.close('all')\n",
    "from constants.filepath import PROJECT_PATH\n",
    "import os"
   ]
  },
  {
   "cell_type": "code",
   "execution_count": 2,
   "metadata": {},
   "outputs": [
    {
     "name": "stdout",
     "output_type": "stream",
     "text": [
      "input_features shape: torch.Size([3162222, 2])\n",
      "target_residuals shape: torch.Size([3162222, 1])\n"
     ]
    }
   ],
   "source": [
    "residuals = np.load(os.path.join(PROJECT_PATH, 'model_data', 'residuals.npz'))['residuals']\n",
    "command_data = np.load(os.path.join(PROJECT_PATH, 'model_data', 'command_data.npz'))['command_data']\n",
    "analytical_data = np.load(os.path.join(PROJECT_PATH, 'model_data', 'analytical_data.npz'))['analytical_data']\n",
    "\n",
    "\n",
    "input_data = np.stack((command_data, analytical_data), axis=1)\n",
    "# input_features = torch.tensor(analytical_data, dtype=torch.float32, device=mps_device).view(-1, 1)\n",
    "input_features = torch.tensor(input_data, dtype=torch.float32, device='cpu')\n",
    "target_residuals = torch.tensor(residuals, dtype=torch.float32, device='cpu').view(-1, 1)\n",
    "\n",
    "print(\"input_features shape:\", input_features.shape)\n",
    "print(\"target_residuals shape:\", target_residuals.shape)"
   ]
  },
  {
   "cell_type": "code",
   "execution_count": 3,
   "metadata": {},
   "outputs": [],
   "source": [
    "class BigManBlastoiseDataset(torch.utils.data.Dataset):\n",
    "    def __init__(self, input_features, target_residuals):\n",
    "        self.data_length = input_features.shape[0]\n",
    "        self.input_features = input_features\n",
    "        self.target_residuals = target_residuals\n",
    "    def __getitem__(self, idx):\n",
    "        return self.input_features[idx], self.target_residuals[idx]\n",
    "    def __len__(self):\n",
    "        return self.data_length"
   ]
  },
  {
   "cell_type": "code",
   "execution_count": null,
   "metadata": {},
   "outputs": [
    {
     "name": "stdout",
     "output_type": "stream",
     "text": [
      "torch.Size([524288, 2])\n",
      "torch.Size([524288, 1])\n",
      "cpu\n"
     ]
    }
   ],
   "source": [
    "dataset = BigManBlastoiseDataset(input_features, target_residuals)\n",
    "# 524288\n",
    "# 1048576\n",
    "data_loader = torch.utils.data.DataLoader(dataset, batch_size=524288, shuffle=True, num_workers=16)\n",
    "\n",
    "data_batch, data_label = next(iter(data_loader))\n",
    "print(data_batch.shape)\n",
    "print(data_label.shape)\n",
    "print(data_batch.device)"
   ]
  },
  {
   "cell_type": "code",
   "execution_count": 5,
   "metadata": {},
   "outputs": [],
   "source": [
    "class ResidualModel(torch.nn.Module):\n",
    "    def __init__(self, fc_dim_list = [2, 64, 512, 1024, 512, 64, 1]):\n",
    "        super(ResidualModel, self).__init__()\n",
    "\n",
    "        self.sequence = []\n",
    "        for i in range(1,len(fc_dim_list)):\n",
    "            self.sequence.append(torch.nn.Linear(fc_dim_list[i-1], fc_dim_list[i]))\n",
    "            if i < len(fc_dim_list)-1:\n",
    "                self.sequence.append(torch.nn.ReLU())\n",
    "        self.sequence = torch.nn.Sequential(*self.sequence)\n",
    "\n",
    "    def forward(self, x):\n",
    "        return self.sequence(x)"
   ]
  },
  {
   "cell_type": "code",
   "execution_count": 6,
   "metadata": {},
   "outputs": [
    {
     "name": "stdout",
     "output_type": "stream",
     "text": [
      "Training model...\n"
     ]
    },
    {
     "name": "stderr",
     "output_type": "stream",
     "text": [
      " 10%|█         | 10/100 [00:59<08:59,  5.99s/it]"
     ]
    },
    {
     "name": "stdout",
     "output_type": "stream",
     "text": [
      "Epoch [10/100], Loss: 0.5828\n"
     ]
    },
    {
     "name": "stderr",
     "output_type": "stream",
     "text": [
      " 20%|██        | 20/100 [02:00<08:01,  6.01s/it]"
     ]
    },
    {
     "name": "stdout",
     "output_type": "stream",
     "text": [
      "Epoch [20/100], Loss: 0.5086\n"
     ]
    },
    {
     "name": "stderr",
     "output_type": "stream",
     "text": [
      " 30%|███       | 30/100 [02:59<06:59,  6.00s/it]"
     ]
    },
    {
     "name": "stdout",
     "output_type": "stream",
     "text": [
      "Epoch [30/100], Loss: 0.5570\n"
     ]
    },
    {
     "name": "stderr",
     "output_type": "stream",
     "text": [
      " 40%|████      | 40/100 [04:00<06:00,  6.01s/it]"
     ]
    },
    {
     "name": "stdout",
     "output_type": "stream",
     "text": [
      "Epoch [40/100], Loss: 0.5373\n"
     ]
    },
    {
     "name": "stderr",
     "output_type": "stream",
     "text": [
      " 50%|█████     | 50/100 [05:00<04:59,  5.99s/it]"
     ]
    },
    {
     "name": "stdout",
     "output_type": "stream",
     "text": [
      "Epoch [50/100], Loss: 0.4405\n"
     ]
    },
    {
     "name": "stderr",
     "output_type": "stream",
     "text": [
      " 60%|██████    | 60/100 [06:00<04:00,  6.00s/it]"
     ]
    },
    {
     "name": "stdout",
     "output_type": "stream",
     "text": [
      "Epoch [60/100], Loss: 0.4318\n"
     ]
    },
    {
     "name": "stderr",
     "output_type": "stream",
     "text": [
      " 70%|███████   | 70/100 [07:00<03:01,  6.06s/it]"
     ]
    },
    {
     "name": "stdout",
     "output_type": "stream",
     "text": [
      "Epoch [70/100], Loss: 0.3566\n"
     ]
    },
    {
     "name": "stderr",
     "output_type": "stream",
     "text": [
      " 80%|████████  | 80/100 [08:01<02:00,  6.03s/it]"
     ]
    },
    {
     "name": "stdout",
     "output_type": "stream",
     "text": [
      "Epoch [80/100], Loss: 0.3633\n"
     ]
    },
    {
     "name": "stderr",
     "output_type": "stream",
     "text": [
      " 90%|█████████ | 90/100 [09:02<01:00,  6.06s/it]"
     ]
    },
    {
     "name": "stdout",
     "output_type": "stream",
     "text": [
      "Epoch [90/100], Loss: 0.3403\n"
     ]
    },
    {
     "name": "stderr",
     "output_type": "stream",
     "text": [
      "100%|██████████| 100/100 [10:02<00:00,  6.03s/it]"
     ]
    },
    {
     "name": "stdout",
     "output_type": "stream",
     "text": [
      "Epoch [100/100], Loss: 0.3511\n"
     ]
    },
    {
     "name": "stderr",
     "output_type": "stream",
     "text": [
      "\n"
     ]
    }
   ],
   "source": [
    "model = ResidualModel()\n",
    "model.to('cuda:1')\n",
    "criterion = torch.nn.MSELoss()\n",
    "optimizer = torch.optim.Adam(model.parameters(), lr=3e-4)\n",
    "\n",
    "# Training loop\n",
    "epochs = 100\n",
    "model.train()\n",
    "\n",
    "# input_features = torch.tensor(input_features).to('cuda:1')\n",
    "# residuals = torch.tensor(residuals).to('cuda:1')\n",
    "\n",
    "print(\"Training model...\")\n",
    "for epoch in tqdm(range(epochs)):\n",
    "    for batched_input_features, batched_residuals in data_loader:\n",
    "        batched_input_features = batched_input_features.to('cuda:1')\n",
    "        batched_residuals = batched_residuals.to('cuda:1')\n",
    "        optimizer.zero_grad()\n",
    "        \n",
    "        # Forward pass\n",
    "        predictions = model(batched_input_features)\n",
    "        loss = criterion(predictions, batched_residuals)\n",
    "\n",
    "        # Backward pass and optimization\n",
    "        loss.backward()\n",
    "        optimizer.step()\n",
    "    \n",
    "    # print loss every 10 epochs\n",
    "    if (epoch + 1) % 10 == 0:\n",
    "        print(f\"Epoch [{epoch + 1}/{epochs}], Loss: {loss.item():.4f}\")"
   ]
  },
  {
   "cell_type": "code",
   "execution_count": 7,
   "metadata": {},
   "outputs": [
    {
     "ename": "NameError",
     "evalue": "name 'training_twosteps' is not defined",
     "output_type": "error",
     "traceback": [
      "\u001b[0;31m---------------------------------------------------------------------------\u001b[0m",
      "\u001b[0;31mNameError\u001b[0m                                 Traceback (most recent call last)",
      "Cell \u001b[0;32mIn[7], line 6\u001b[0m\n\u001b[1;32m      2\u001b[0m model\u001b[38;5;241m.\u001b[39meval()\n\u001b[1;32m      4\u001b[0m \u001b[38;5;66;03m#%%\u001b[39;00m\n\u001b[0;32m----> 6\u001b[0m test \u001b[38;5;241m=\u001b[39m \u001b[43mtraining_twosteps\u001b[49m(flowrate_magnitudes \u001b[38;5;241m=\u001b[39m [[\u001b[38;5;241m0.75\u001b[39m, \u001b[38;5;241m0.001\u001b[39m], [\u001b[38;5;241m0.2\u001b[39m, \u001b[38;5;241m0.001\u001b[39m], [\u001b[38;5;241m0.48\u001b[39m, \u001b[38;5;241m0.001\u001b[39m]],\n\u001b[1;32m      7\u001b[0m                          flowrate_times \u001b[38;5;241m=\u001b[39m [[\u001b[38;5;241m0.0001\u001b[39m, \u001b[38;5;241m8\u001b[39m], [\u001b[38;5;241m15\u001b[39m, \u001b[38;5;241m20\u001b[39m], [\u001b[38;5;241m22\u001b[39m, \u001b[38;5;241m33\u001b[39m]],\n\u001b[1;32m      8\u001b[0m                          beadwidth_magnitudes \u001b[38;5;241m=\u001b[39m [[]],\n\u001b[1;32m      9\u001b[0m                          beadwidth_times \u001b[38;5;241m=\u001b[39m [[]],\n\u001b[1;32m     10\u001b[0m                          dt \u001b[38;5;241m=\u001b[39m \u001b[38;5;241m0.001\u001b[39m,\n\u001b[1;32m     11\u001b[0m                          tmax\u001b[38;5;241m=\u001b[39m\u001b[38;5;241m40\u001b[39m)\n\u001b[1;32m     12\u001b[0m test_t_input, test_Q_input, test_W_input \u001b[38;5;241m=\u001b[39m test\u001b[38;5;241m.\u001b[39mpathgen()\n\u001b[1;32m     13\u001b[0m test_t, test_W, test_Q_com, test_Q_out \u001b[38;5;241m=\u001b[39m flow_predictor(test_t_input, test_Q_input, test_W_input)\n",
      "\u001b[0;31mNameError\u001b[0m: name 'training_twosteps' is not defined"
     ]
    }
   ],
   "source": [
    "# Example: Run model inference (optional, based on your needs)\n",
    "model.eval()\n",
    "\n",
    "#%%\n",
    "\n",
    "test = training_twosteps(flowrate_magnitudes = [[0.75, 0.001], [0.2, 0.001], [0.48, 0.001]],\n",
    "                         flowrate_times = [[0.0001, 8], [15, 20], [22, 33]],\n",
    "                         beadwidth_magnitudes = [[]],\n",
    "                         beadwidth_times = [[]],\n",
    "                         dt = 0.001,\n",
    "                         tmax=40)\n",
    "test_t_input, test_Q_input, test_W_input = test.pathgen()\n",
    "test_t, test_W, test_Q_com, test_Q_out = flow_predictor(test_t_input, test_Q_input, test_W_input)\n",
    "\n",
    "test_analytical = test_Q_out * 1e9\n",
    "test_command = test_Q_com * 1e9\n",
    "test_combined = np.stack((test_command, test_analytical), axis=1)\n",
    "test_input = torch.tensor(test_combined, dtype=torch.float32, device=mps_device)\n",
    "\n",
    "with torch.no_grad():\n",
    "    output = model(test_input) * 1e-9\n",
    "    test_result = (output).cpu().numpy().reshape(-1)\n",
    "    \n",
    "plt.figure()\n",
    "plt.plot(test_t, test_Q_com, label='Input', color='black', linestyle='--')\n",
    "# plt.plot(test_accel.ts, test_accel.sim_Q_out, label = 'Simulated Data', color = 'red')\n",
    "plt.plot(test_t, test_Q_out, label = 'Analytical Data', color = 'blue')\n",
    "plt.plot(test_t, test_result, label='Residual', color='magenta')\n",
    "plt.plot(test_t, test_Q_out + test_result, label='Total', color='green')\n",
    "\n",
    "plt.legend()\n"
   ]
  },
  {
   "cell_type": "code",
   "execution_count": 8,
   "metadata": {},
   "outputs": [],
   "source": [
    "torch.save(model.state_dict(), 'trajectory_correction_DNN_v0.pth')"
   ]
  },
  {
   "cell_type": "code",
   "execution_count": null,
   "metadata": {},
   "outputs": [],
   "source": []
  }
 ],
 "metadata": {
  "kernelspec": {
   "display_name": "vbn",
   "language": "python",
   "name": "python3"
  },
  "language_info": {
   "codemirror_mode": {
    "name": "ipython",
    "version": 3
   },
   "file_extension": ".py",
   "mimetype": "text/x-python",
   "name": "python",
   "nbconvert_exporter": "python",
   "pygments_lexer": "ipython3",
   "version": "3.13.2"
  }
 },
 "nbformat": 4,
 "nbformat_minor": 2
}
